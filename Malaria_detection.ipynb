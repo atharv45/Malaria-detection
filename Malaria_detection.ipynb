{
  "nbformat": 4,
  "nbformat_minor": 0,
  "metadata": {
    "colab": {
      "name": "Malaria detection.ipynb",
      "provenance": [],
      "collapsed_sections": []
    },
    "kernelspec": {
      "name": "python3",
      "display_name": "Python 3"
    },
    "language_info": {
      "name": "python"
    },
    "accelerator": "GPU",
    "gpuClass": "standard"
  },
  "cells": [
    {
      "cell_type": "code",
      "execution_count": 2,
      "metadata": {
        "id": "m5fzFu_z62Fb"
      },
      "outputs": [],
      "source": [
        "from tensorflow.keras.layers import Input, Lambda,Dense,Flatten,Conv2D     \n",
        "from tensorflow.keras.models import Model\n",
        "from tensorflow.keras.applications.vgg19 import VGG19\n",
        "from tensorflow.keras.applications.resnet50 import preprocess_input\n",
        "from tensorflow.keras.preprocessing import image\n",
        "from tensorflow.keras.preprocessing.image import ImageDataGenerator, load_img\n",
        "from tensorflow.keras.models import Sequential\n",
        "import numpy as np\n",
        "from glob import glob   #lob (short for global) is used to return all file paths that match a specific pattern\n",
        "import matplotlib.pyplot as plt\n",
        "import os"
      ]
    },
    {
      "cell_type": "code",
      "source": [
        "from google.colab import drive\n",
        "drive.mount('/content/drive')"
      ],
      "metadata": {
        "colab": {
          "base_uri": "https://localhost:8080/"
        },
        "id": "mHAiyqb5_Efa",
        "outputId": "e43ee400-47be-461f-8181-a2ce041c0940"
      },
      "execution_count": 1,
      "outputs": [
        {
          "output_type": "stream",
          "name": "stdout",
          "text": [
            "Drive already mounted at /content/drive; to attempt to forcibly remount, call drive.mount(\"/content/drive\", force_remount=True).\n"
          ]
        }
      ]
    },
    {
      "cell_type": "code",
      "source": [
        "import tensorflow as tf\n",
        "print(tf.__version__)"
      ],
      "metadata": {
        "colab": {
          "base_uri": "https://localhost:8080/"
        },
        "id": "9MaxJnyc8KVE",
        "outputId": "b387604c-6df7-43a6-9584-b4afdde5fd64"
      },
      "execution_count": 3,
      "outputs": [
        {
          "output_type": "stream",
          "name": "stdout",
          "text": [
            "2.8.2\n"
          ]
        }
      ]
    },
    {
      "cell_type": "code",
      "source": [
        "dir = r'/content/drive/MyDrive/KAGGLE DATASETS'\n",
        "for img in os.listdir(dir):\n",
        "  print(img)"
      ],
      "metadata": {
        "colab": {
          "base_uri": "https://localhost:8080/"
        },
        "id": "vcOl1JmB8QHc",
        "outputId": "7b9567a6-febd-4a82-d3f0-9f0d114638d6"
      },
      "execution_count": 4,
      "outputs": [
        {
          "output_type": "stream",
          "name": "stdout",
          "text": [
            "Malaria detection\n"
          ]
        }
      ]
    },
    {
      "cell_type": "code",
      "source": [
        "img_size = [224,224]\n",
        "\n",
        "train_path = '/content/drive/MyDrive/KAGGLE DATASETS/Malaria detection/dataset/Train'\n",
        "valid_path = '/content/drive/MyDrive/KAGGLE DATASETS/Malaria detection/dataset/Test'"
      ],
      "metadata": {
        "id": "Mr9MLW3J-5Rc"
      },
      "execution_count": 5,
      "outputs": []
    },
    {
      "cell_type": "code",
      "source": [
        "vgg = VGG19( input_shape=img_size + [3], weights='imagenet' , include_top=False )  \n",
        "#include_top = false means cut the first and last layer because in first layer we will give our own image size \n",
        "# and in last layer we will say how many numbers of classes should be there.\n",
        "vgg.summary()"
      ],
      "metadata": {
        "colab": {
          "base_uri": "https://localhost:8080/"
        },
        "id": "Z4TowaAmH-2o",
        "outputId": "00fd23e5-c732-4a98-8935-bc24e0417421"
      },
      "execution_count": 21,
      "outputs": [
        {
          "output_type": "stream",
          "name": "stdout",
          "text": [
            "Downloading data from https://storage.googleapis.com/tensorflow/keras-applications/vgg19/vgg19_weights_tf_dim_ordering_tf_kernels_notop.h5\n",
            "80142336/80134624 [==============================] - 0s 0us/step\n",
            "80150528/80134624 [==============================] - 0s 0us/step\n",
            "Model: \"vgg19\"\n",
            "_________________________________________________________________\n",
            " Layer (type)                Output Shape              Param #   \n",
            "=================================================================\n",
            " input_1 (InputLayer)        [(None, 224, 224, 3)]     0         \n",
            "                                                                 \n",
            " block1_conv1 (Conv2D)       (None, 224, 224, 64)      1792      \n",
            "                                                                 \n",
            " block1_conv2 (Conv2D)       (None, 224, 224, 64)      36928     \n",
            "                                                                 \n",
            " block1_pool (MaxPooling2D)  (None, 112, 112, 64)      0         \n",
            "                                                                 \n",
            " block2_conv1 (Conv2D)       (None, 112, 112, 128)     73856     \n",
            "                                                                 \n",
            " block2_conv2 (Conv2D)       (None, 112, 112, 128)     147584    \n",
            "                                                                 \n",
            " block2_pool (MaxPooling2D)  (None, 56, 56, 128)       0         \n",
            "                                                                 \n",
            " block3_conv1 (Conv2D)       (None, 56, 56, 256)       295168    \n",
            "                                                                 \n",
            " block3_conv2 (Conv2D)       (None, 56, 56, 256)       590080    \n",
            "                                                                 \n",
            " block3_conv3 (Conv2D)       (None, 56, 56, 256)       590080    \n",
            "                                                                 \n",
            " block3_conv4 (Conv2D)       (None, 56, 56, 256)       590080    \n",
            "                                                                 \n",
            " block3_pool (MaxPooling2D)  (None, 28, 28, 256)       0         \n",
            "                                                                 \n",
            " block4_conv1 (Conv2D)       (None, 28, 28, 512)       1180160   \n",
            "                                                                 \n",
            " block4_conv2 (Conv2D)       (None, 28, 28, 512)       2359808   \n",
            "                                                                 \n",
            " block4_conv3 (Conv2D)       (None, 28, 28, 512)       2359808   \n",
            "                                                                 \n",
            " block4_conv4 (Conv2D)       (None, 28, 28, 512)       2359808   \n",
            "                                                                 \n",
            " block4_pool (MaxPooling2D)  (None, 14, 14, 512)       0         \n",
            "                                                                 \n",
            " block5_conv1 (Conv2D)       (None, 14, 14, 512)       2359808   \n",
            "                                                                 \n",
            " block5_conv2 (Conv2D)       (None, 14, 14, 512)       2359808   \n",
            "                                                                 \n",
            " block5_conv3 (Conv2D)       (None, 14, 14, 512)       2359808   \n",
            "                                                                 \n",
            " block5_conv4 (Conv2D)       (None, 14, 14, 512)       2359808   \n",
            "                                                                 \n",
            " block5_pool (MaxPooling2D)  (None, 7, 7, 512)         0         \n",
            "                                                                 \n",
            "=================================================================\n",
            "Total params: 20,024,384\n",
            "Trainable params: 20,024,384\n",
            "Non-trainable params: 0\n",
            "_________________________________________________________________\n"
          ]
        }
      ]
    },
    {
      "cell_type": "code",
      "source": [
        "# vgg_19_tr = VGG19( input_shape=(224,224,3), weights='imagenet' , include_top=True )  \n",
        "# vgg_19_tr.summary()\n",
        "\n",
        "#do this to check difference between include_top = True and FALSE"
      ],
      "metadata": {
        "id": "LAShHivWMcy_"
      },
      "execution_count": null,
      "outputs": []
    },
    {
      "cell_type": "code",
      "source": [
        "#dont train existing weights or FREEZING THE CONVOLUTION LAYER\n",
        "for layer in vgg.layers:\n",
        "  # print(layer)\n",
        "  layer.trainable = False\n"
      ],
      "metadata": {
        "id": "a3MuFH4LMmSe"
      },
      "execution_count": 22,
      "outputs": []
    },
    {
      "cell_type": "code",
      "source": [
        "#useful for getting number of output classes\n",
        "folders = glob('/content/drive/MyDrive/KAGGLE DATASETS/Malaria detection/dataset/Train/*')\n",
        "folders"
      ],
      "metadata": {
        "id": "vI2RmzUFQIFK",
        "colab": {
          "base_uri": "https://localhost:8080/"
        },
        "outputId": "ba30652c-0885-4924-dd2e-7a8f1b099de8"
      },
      "execution_count": 23,
      "outputs": [
        {
          "output_type": "execute_result",
          "data": {
            "text/plain": [
              "['/content/drive/MyDrive/KAGGLE DATASETS/Malaria detection/dataset/Train/Parasite',\n",
              " '/content/drive/MyDrive/KAGGLE DATASETS/Malaria detection/dataset/Train/Uninfected']"
            ]
          },
          "metadata": {},
          "execution_count": 23
        }
      ]
    },
    {
      "cell_type": "code",
      "source": [
        "#our layers - CAN ADD MORE LAYERS IF YOU WANT\n",
        "x = Flatten()(vgg.output)"
      ],
      "metadata": {
        "id": "Ex9VSX2yno_M"
      },
      "execution_count": 24,
      "outputs": []
    },
    {
      "cell_type": "code",
      "source": [
        "x"
      ],
      "metadata": {
        "colab": {
          "base_uri": "https://localhost:8080/"
        },
        "id": "5WdiIQkAoKZC",
        "outputId": "83e4b7fb-b7c5-4b7a-ff5e-127b7a856826"
      },
      "execution_count": 25,
      "outputs": [
        {
          "output_type": "execute_result",
          "data": {
            "text/plain": [
              "<KerasTensor: shape=(None, 25088) dtype=float32 (created by layer 'flatten_1')>"
            ]
          },
          "metadata": {},
          "execution_count": 25
        }
      ]
    },
    {
      "cell_type": "code",
      "source": [
        "# vgg.output"
      ],
      "metadata": {
        "id": "uLEE_VCSpEA8"
      },
      "execution_count": 26,
      "outputs": []
    },
    {
      "cell_type": "code",
      "source": [
        "#basically len(folders) = 2 and we have 2 nodes so we are selecting softmax in case of 1 node we can go for Sigmoid\n",
        "\n",
        "prediction = Dense(len(folders), activation='softmax')(x)\n",
        "\n",
        "prediction"
      ],
      "metadata": {
        "colab": {
          "base_uri": "https://localhost:8080/"
        },
        "id": "veIUrcT_pcM6",
        "outputId": "cb99fb25-4ea6-4aec-913d-3459e8eb4f57"
      },
      "execution_count": 27,
      "outputs": [
        {
          "output_type": "execute_result",
          "data": {
            "text/plain": [
              "<KerasTensor: shape=(None, 2) dtype=float32 (created by layer 'dense_3')>"
            ]
          },
          "metadata": {},
          "execution_count": 27
        }
      ]
    },
    {
      "cell_type": "code",
      "source": [
        "#to check significance of (x) after dense\n",
        "# not_at_all =  Dense(len(folders), activation='softmax')\n",
        "# not_at_all"
      ],
      "metadata": {
        "colab": {
          "base_uri": "https://localhost:8080/"
        },
        "id": "jzT3Op4aq-mq",
        "outputId": "c0bea2cc-2012-4ca8-8af9-76f0bb82ef13"
      },
      "execution_count": null,
      "outputs": [
        {
          "output_type": "execute_result",
          "data": {
            "text/plain": [
              "<keras.layers.core.dense.Dense at 0x7efff008bbd0>"
            ]
          },
          "metadata": {},
          "execution_count": 16
        }
      ]
    },
    {
      "cell_type": "code",
      "source": [
        "#create a model object\n",
        "model = Model(inputs = vgg.input, outputs = prediction)\n",
        "\n",
        "model.summary()"
      ],
      "metadata": {
        "colab": {
          "base_uri": "https://localhost:8080/"
        },
        "id": "ktnwquwnrL1p",
        "outputId": "e1d4e61b-2ed1-4194-81a7-804e5fc89351"
      },
      "execution_count": 28,
      "outputs": [
        {
          "output_type": "stream",
          "name": "stdout",
          "text": [
            "Model: \"model\"\n",
            "_________________________________________________________________\n",
            " Layer (type)                Output Shape              Param #   \n",
            "=================================================================\n",
            " input_1 (InputLayer)        [(None, 224, 224, 3)]     0         \n",
            "                                                                 \n",
            " block1_conv1 (Conv2D)       (None, 224, 224, 64)      1792      \n",
            "                                                                 \n",
            " block1_conv2 (Conv2D)       (None, 224, 224, 64)      36928     \n",
            "                                                                 \n",
            " block1_pool (MaxPooling2D)  (None, 112, 112, 64)      0         \n",
            "                                                                 \n",
            " block2_conv1 (Conv2D)       (None, 112, 112, 128)     73856     \n",
            "                                                                 \n",
            " block2_conv2 (Conv2D)       (None, 112, 112, 128)     147584    \n",
            "                                                                 \n",
            " block2_pool (MaxPooling2D)  (None, 56, 56, 128)       0         \n",
            "                                                                 \n",
            " block3_conv1 (Conv2D)       (None, 56, 56, 256)       295168    \n",
            "                                                                 \n",
            " block3_conv2 (Conv2D)       (None, 56, 56, 256)       590080    \n",
            "                                                                 \n",
            " block3_conv3 (Conv2D)       (None, 56, 56, 256)       590080    \n",
            "                                                                 \n",
            " block3_conv4 (Conv2D)       (None, 56, 56, 256)       590080    \n",
            "                                                                 \n",
            " block3_pool (MaxPooling2D)  (None, 28, 28, 256)       0         \n",
            "                                                                 \n",
            " block4_conv1 (Conv2D)       (None, 28, 28, 512)       1180160   \n",
            "                                                                 \n",
            " block4_conv2 (Conv2D)       (None, 28, 28, 512)       2359808   \n",
            "                                                                 \n",
            " block4_conv3 (Conv2D)       (None, 28, 28, 512)       2359808   \n",
            "                                                                 \n",
            " block4_conv4 (Conv2D)       (None, 28, 28, 512)       2359808   \n",
            "                                                                 \n",
            " block4_pool (MaxPooling2D)  (None, 14, 14, 512)       0         \n",
            "                                                                 \n",
            " block5_conv1 (Conv2D)       (None, 14, 14, 512)       2359808   \n",
            "                                                                 \n",
            " block5_conv2 (Conv2D)       (None, 14, 14, 512)       2359808   \n",
            "                                                                 \n",
            " block5_conv3 (Conv2D)       (None, 14, 14, 512)       2359808   \n",
            "                                                                 \n",
            " block5_conv4 (Conv2D)       (None, 14, 14, 512)       2359808   \n",
            "                                                                 \n",
            " block5_pool (MaxPooling2D)  (None, 7, 7, 512)         0         \n",
            "                                                                 \n",
            " flatten_1 (Flatten)         (None, 25088)             0         \n",
            "                                                                 \n",
            " dense_3 (Dense)             (None, 2)                 50178     \n",
            "                                                                 \n",
            "=================================================================\n",
            "Total params: 20,074,562\n",
            "Trainable params: 50,178\n",
            "Non-trainable params: 20,024,384\n",
            "_________________________________________________________________\n"
          ]
        }
      ]
    },
    {
      "cell_type": "code",
      "source": [
        "model.compile(loss = 'categorical_crossentropy', optimizer='adam' , metrics=['accuracy'])"
      ],
      "metadata": {
        "id": "9vZ4e0cXsVxA"
      },
      "execution_count": 29,
      "outputs": []
    },
    {
      "cell_type": "code",
      "source": [
        "#Keras ImageDataGenerator is a gem! It lets you augment your images in real-time while your model is still training! \n",
        "# You can apply any random transformations on each training image as it is passed to the model. \n",
        "# This will not only make your model robust but will also save up on the overhead memory!\n",
        "\n",
        "\n",
        "\n",
        "#Also how i can read the data from the folders for that we will be using image data generator--------------------------------------------\n",
        "from tensorflow.keras.preprocessing.image import ImageDataGenerator\n",
        "\n",
        "train_datagen = ImageDataGenerator(rescale=1./255,      #Rescale 1./255 is to transform every pixel value from range [0,255] -> [0,1]\n",
        "                                   shear_range = 0.2,\n",
        "                                   zoom_range = 0.2,\n",
        "                                   horizontal_flip = True)\n",
        "test_datagen = ImageDataGenerator(rescale = 1./255)\n",
        "      "
      ],
      "metadata": {
        "id": "WR14dUThwbnX"
      },
      "execution_count": 30,
      "outputs": []
    },
    {
      "cell_type": "code",
      "source": [
        "#make sure you provide the same target size as initialized for the image size before i.e 224,224\n",
        "\n",
        "#here we are reading the images directly from the train directory  basically train_datagen is applying all \n",
        "# the techniques\n",
        "# and training_set is reading and storing it\n",
        "\n",
        "#target size ------The target_size is the size of your input images, every image will be resized to this size.\n",
        "\n",
        "#batch_size: No. of images to be produced from the generator per batch.\n",
        "\n",
        "training_set = train_datagen.flow_from_directory('/content/drive/MyDrive/KAGGLE DATASETS/Malaria detection/dataset/Train',\n",
        "                                                 target_size=(224,224),\n",
        "                                                 batch_size=32,\n",
        "                                                 class_mode = 'categorical')"
      ],
      "metadata": {
        "colab": {
          "base_uri": "https://localhost:8080/"
        },
        "id": "Pdb58-yo1uw_",
        "outputId": "633f17f7-ca71-481d-9720-a8f3fff52e4e"
      },
      "execution_count": 31,
      "outputs": [
        {
          "output_type": "stream",
          "name": "stdout",
          "text": [
            "Found 416 images belonging to 2 classes.\n"
          ]
        }
      ]
    },
    {
      "cell_type": "code",
      "source": [
        "training_set"
      ],
      "metadata": {
        "colab": {
          "base_uri": "https://localhost:8080/"
        },
        "id": "8Ckg7pX42xZV",
        "outputId": "620ca645-bd8c-4b06-e323-4b1e0f1f6f94"
      },
      "execution_count": 32,
      "outputs": [
        {
          "output_type": "execute_result",
          "data": {
            "text/plain": [
              "<keras.preprocessing.image.DirectoryIterator at 0x7f053506b210>"
            ]
          },
          "metadata": {},
          "execution_count": 32
        }
      ]
    },
    {
      "cell_type": "code",
      "source": [
        "test_set = test_datagen.flow_from_directory('/content/drive/MyDrive/KAGGLE DATASETS/Malaria detection/dataset/Test',\n",
        "                                            target_size=(224,224),\n",
        "                                            batch_size = 32,\n",
        "                                            class_mode = 'categorical')\n"
      ],
      "metadata": {
        "colab": {
          "base_uri": "https://localhost:8080/"
        },
        "id": "rb2XX_Dl23Qd",
        "outputId": "85a6dc0c-e43c-4202-905c-c4a47cffd6f5"
      },
      "execution_count": 33,
      "outputs": [
        {
          "output_type": "stream",
          "name": "stdout",
          "text": [
            "Found 134 images belonging to 2 classes.\n"
          ]
        }
      ]
    },
    {
      "cell_type": "code",
      "source": [
        "history2 = model.fit(training_set,\n",
        "                    validation_data = test_set,\n",
        "                    epochs = 15,\n",
        "                    steps_per_epoch = len(training_set),\n",
        "                    validation_steps = len(test_set))\n"
      ],
      "metadata": {
        "colab": {
          "base_uri": "https://localhost:8080/"
        },
        "id": "ZRw-a-fz5GMN",
        "outputId": "31d4f7e2-30f5-4885-afe7-f7abd5feb9b4"
      },
      "execution_count": 34,
      "outputs": [
        {
          "output_type": "stream",
          "name": "stdout",
          "text": [
            "Epoch 1/15\n",
            "13/13 [==============================] - 11s 579ms/step - loss: 1.5083 - accuracy: 0.5048 - val_loss: 1.2899 - val_accuracy: 0.3657\n",
            "Epoch 2/15\n",
            "13/13 [==============================] - 7s 506ms/step - loss: 0.6463 - accuracy: 0.6779 - val_loss: 0.5107 - val_accuracy: 0.7090\n",
            "Epoch 3/15\n",
            "13/13 [==============================] - 7s 508ms/step - loss: 0.3882 - accuracy: 0.8389 - val_loss: 0.4593 - val_accuracy: 0.7612\n",
            "Epoch 4/15\n",
            "13/13 [==============================] - 8s 602ms/step - loss: 0.3552 - accuracy: 0.8486 - val_loss: 0.4777 - val_accuracy: 0.7910\n",
            "Epoch 5/15\n",
            "13/13 [==============================] - 7s 569ms/step - loss: 0.3353 - accuracy: 0.8510 - val_loss: 0.3960 - val_accuracy: 0.7612\n",
            "Epoch 6/15\n",
            "13/13 [==============================] - 7s 503ms/step - loss: 0.3198 - accuracy: 0.8630 - val_loss: 0.3764 - val_accuracy: 0.8657\n",
            "Epoch 7/15\n",
            "13/13 [==============================] - 7s 502ms/step - loss: 0.3258 - accuracy: 0.8293 - val_loss: 0.5004 - val_accuracy: 0.7463\n",
            "Epoch 8/15\n",
            "13/13 [==============================] - 8s 590ms/step - loss: 0.2683 - accuracy: 0.8846 - val_loss: 0.3681 - val_accuracy: 0.7612\n",
            "Epoch 9/15\n",
            "13/13 [==============================] - 8s 581ms/step - loss: 0.2508 - accuracy: 0.9038 - val_loss: 0.3606 - val_accuracy: 0.8358\n",
            "Epoch 10/15\n",
            "13/13 [==============================] - 7s 501ms/step - loss: 0.2330 - accuracy: 0.9135 - val_loss: 0.3233 - val_accuracy: 0.8284\n",
            "Epoch 11/15\n",
            "13/13 [==============================] - 7s 502ms/step - loss: 0.2288 - accuracy: 0.9111 - val_loss: 0.3424 - val_accuracy: 0.8582\n",
            "Epoch 12/15\n",
            "13/13 [==============================] - 7s 509ms/step - loss: 0.1966 - accuracy: 0.9375 - val_loss: 0.3133 - val_accuracy: 0.8657\n",
            "Epoch 13/15\n",
            "13/13 [==============================] - 7s 517ms/step - loss: 0.1857 - accuracy: 0.9495 - val_loss: 0.3212 - val_accuracy: 0.8582\n",
            "Epoch 14/15\n",
            "13/13 [==============================] - 7s 519ms/step - loss: 0.1909 - accuracy: 0.9399 - val_loss: 0.4006 - val_accuracy: 0.7836\n",
            "Epoch 15/15\n",
            "13/13 [==============================] - 7s 527ms/step - loss: 0.1798 - accuracy: 0.9519 - val_loss: 0.3071 - val_accuracy: 0.8731\n"
          ]
        }
      ]
    },
    {
      "cell_type": "code",
      "source": [
        "# plot the loss\n",
        "plt.plot(history2.history['loss'], label='train loss')\n",
        "plt.plot(history2.history['val_loss'], label='val loss')\n",
        "plt.legend()\n",
        "plt.show()\n",
        "plt.savefig('LossVal_loss')\n",
        "\n",
        "# plot the accuracy\n",
        "plt.plot(history2.history['accuracy'], label='train acc')\n",
        "plt.plot(history2.history['val_accuracy'], label='val acc')\n",
        "plt.legend()\n",
        "plt.show()\n",
        "plt.savefig('AccVal_acc')"
      ],
      "metadata": {
        "colab": {
          "base_uri": "https://localhost:8080/",
          "height": 530
        },
        "id": "SZSoQq888Lbc",
        "outputId": "982aeea9-368a-4682-d02c-cff92770846b"
      },
      "execution_count": 36,
      "outputs": [
        {
          "output_type": "display_data",
          "data": {
            "text/plain": [
              "<Figure size 432x288 with 1 Axes>"
            ],
            "image/png": "[encoded data removed]"
          },
          "metadata": {
            "needs_background": "light"
          }
        },
        {
          "output_type": "display_data",
          "data": {
            "text/plain": [
              "<Figure size 432x288 with 1 Axes>"
            ],
            "image/png": "[encoded data removed]"
          },
          "metadata": {
            "needs_background": "light"
          }
        },
        {
          "output_type": "display_data",
          "data": {
            "text/plain": [
              "<Figure size 432x288 with 0 Axes>"
            ]
          },
          "metadata": {}
        }
      ]
    },
    {
      "cell_type": "code",
      "source": [
        "import numpy as np\n",
        "vgg_val_loss = history2.history['val_loss']\n",
        "vgg_val_acc = history2.history['val_accuracy']\n",
        "\n",
        "print(f' valiadation loss is {np.average(vgg_val_loss)}')\n",
        "print(f'validation accuracy is {np.average(vgg_val_acc)}')"
      ],
      "metadata": {
        "id": "wPcOTL6395rN",
        "colab": {
          "base_uri": "https://localhost:8080/"
        },
        "outputId": "4cc688a1-a4c3-4608-e032-6e8ce61a4d6f"
      },
      "execution_count": 38,
      "outputs": [
        {
          "output_type": "stream",
          "name": "stdout",
          "text": [
            " valiadation loss is 0.4497931698958079\n",
            "validation accuracy is 0.7776119430859884\n"
          ]
        }
      ]
    },
    {
      "cell_type": "code",
      "source": [
        ""
      ],
      "metadata": {
        "id": "xnvP6hMT_keX"
      },
      "execution_count": null,
      "outputs": []
    },
    {
      "cell_type": "code",
      "source": [
        ""
      ],
      "metadata": {
        "id": "gRlrXBom_kaR"
      },
      "execution_count": null,
      "outputs": []
    },
    {
      "cell_type": "code",
      "source": [
        ""
      ],
      "metadata": {
        "id": "-Dq1WwYf_kYx"
      },
      "execution_count": null,
      "outputs": []
    },
    {
      "cell_type": "code",
      "source": [
        ""
      ],
      "metadata": {
        "id": "Kb-0f7rL_kU_"
      },
      "execution_count": null,
      "outputs": []
    },
    {
      "cell_type": "code",
      "source": [
        "from tensorflow.keras.preprocessing import image\n",
        "img = image.load_img('/content/drive/MyDrive/KAGGLE DATASETS/Malaria detection/dataset/Train/Parasite/C133P94ThinF_IMG_20151004_155721_cell_111.png')\n",
        "img"
      ],
      "metadata": {
        "colab": {
          "base_uri": "https://localhost:8080/",
          "height": 141
        },
        "id": "cEi0eWTD_kT6",
        "outputId": "96740a46-6766-457e-b6ca-54a85e9ec83d"
      },
      "execution_count": 6,
      "outputs": [
        {
          "output_type": "execute_result",
          "data": {
            "text/plain": [
              "<PIL.PngImagePlugin.PngImageFile image mode=RGB size=121x124 at 0x7F05EB572C10>"
            ],
            "image/png": "[encoded data removed]"
          },
          "metadata": {},
          "execution_count": 6
        }
      ]
    },
    {
      "cell_type": "code",
      "source": [
        ""
      ],
      "metadata": {
        "id": "2AZdLQnyBmGM"
      },
      "execution_count": 8,
      "outputs": []
    },
    {
      "cell_type": "markdown",
      "source": [
        "##Making CNN Model from scratch"
      ],
      "metadata": {
        "id": "a9Lu5wzJ_6PJ"
      }
    },
    {
      "cell_type": "code",
      "source": [
        "import tensorflow as tf\n",
        "from keras import Sequential\n",
        "from keras.layers import Dense,Conv2D,MaxPool2D,Flatten\n",
        "from keras.layers import BatchNormalization,Dropout\n",
        "from tensorflow.keras import initializers\n",
        "\n",
        "initializer = tf.keras.initializers.HeNormal()\n",
        "\n",
        "model_2 = Sequential()\n",
        "model_2.add(Conv2D( 16, (3,3), activation='relu', kernel_initializer=initializer, input_shape=(224,224,3) ))\n",
        "model_2.add(MaxPool2D((2,2)))\n",
        "\n",
        "model_2.add(Conv2D( 32, (3,3), activation='relu' ))\n",
        "model_2.add(MaxPool2D((2,2)))\n",
        "\n",
        "model_2.add(Conv2D( 64, (3,3), activation='relu' ))\n",
        "model_2.add(MaxPool2D((2,2)))\n",
        "\n",
        "model_2.add(Flatten())\n",
        "\n",
        "model_2.add(Dense(512, activation='relu'))\n",
        "model_2.add(Dropout(0.2))\n",
        "\n",
        "model_2.add(Dense(256, activation='relu'))\n",
        "model_2.add(Dropout(0.4))\n",
        "\n",
        "model_2.add(Dense(2, activation='softmax'))\n",
        "\n",
        "\n"
      ],
      "metadata": {
        "id": "mZ9CNFXy_kLq"
      },
      "execution_count": 10,
      "outputs": []
    },
    {
      "cell_type": "code",
      "source": [
        "model_2.summary()"
      ],
      "metadata": {
        "colab": {
          "base_uri": "https://localhost:8080/"
        },
        "id": "FDRS6ARK_kKF",
        "outputId": "aec3ffaf-9752-4c4f-abb0-300addb05f82"
      },
      "execution_count": 12,
      "outputs": [
        {
          "output_type": "stream",
          "name": "stdout",
          "text": [
            "Model: \"sequential_1\"\n",
            "_________________________________________________________________\n",
            " Layer (type)                Output Shape              Param #   \n",
            "=================================================================\n",
            " conv2d_1 (Conv2D)           (None, 222, 222, 16)      448       \n",
            "                                                                 \n",
            " max_pooling2d (MaxPooling2D  (None, 111, 111, 16)     0         \n",
            " )                                                               \n",
            "                                                                 \n",
            " conv2d_2 (Conv2D)           (None, 109, 109, 32)      4640      \n",
            "                                                                 \n",
            " max_pooling2d_1 (MaxPooling  (None, 54, 54, 32)       0         \n",
            " 2D)                                                             \n",
            "                                                                 \n",
            " conv2d_3 (Conv2D)           (None, 52, 52, 64)        18496     \n",
            "                                                                 \n",
            " max_pooling2d_2 (MaxPooling  (None, 26, 26, 64)       0         \n",
            " 2D)                                                             \n",
            "                                                                 \n",
            " flatten (Flatten)           (None, 43264)             0         \n",
            "                                                                 \n",
            " dense (Dense)               (None, 512)               22151680  \n",
            "                                                                 \n",
            " dropout (Dropout)           (None, 512)               0         \n",
            "                                                                 \n",
            " dense_1 (Dense)             (None, 256)               131328    \n",
            "                                                                 \n",
            " dropout_1 (Dropout)         (None, 256)               0         \n",
            "                                                                 \n",
            " dense_2 (Dense)             (None, 2)                 514       \n",
            "                                                                 \n",
            "=================================================================\n",
            "Total params: 22,307,106\n",
            "Trainable params: 22,307,106\n",
            "Non-trainable params: 0\n",
            "_________________________________________________________________\n"
          ]
        }
      ]
    },
    {
      "cell_type": "code",
      "source": [
        "model_2.compile(optimizer = 'adam', loss='categorical_crossentropy',metrics=['accuracy'] )"
      ],
      "metadata": {
        "id": "SJyxDNad_kGo"
      },
      "execution_count": 13,
      "outputs": []
    },
    {
      "cell_type": "code",
      "source": [
        "from tensorflow.keras.preprocessing.image import ImageDataGenerator\n",
        "\n",
        "train_datagen = ImageDataGenerator(rescale=1./255,      #Rescale 1./255 is to transform every pixel value from range [0,255] -> [0,1]\n",
        "                                   shear_range = 0.2,\n",
        "                                   zoom_range = 0.2,\n",
        "                                   horizontal_flip = True)\n",
        "test_datagen = ImageDataGenerator(rescale = 1./255)\n"
      ],
      "metadata": {
        "id": "n0cO8Rd9_kFT"
      },
      "execution_count": 14,
      "outputs": []
    },
    {
      "cell_type": "code",
      "source": [
        "\n",
        "training_set = train_datagen.flow_from_directory('/content/drive/MyDrive/KAGGLE DATASETS/Malaria detection/dataset/Train',\n",
        "                                                 target_size=(224,224),\n",
        "                                                 batch_size=32,\n",
        "                                                 class_mode = 'categorical')\n",
        "test_set = test_datagen.flow_from_directory('/content/drive/MyDrive/KAGGLE DATASETS/Malaria detection/dataset/Test',\n",
        "                                            target_size=(224,224),\n",
        "                                            batch_size = 32,\n",
        "                                            class_mode = 'categorical')"
      ],
      "metadata": {
        "colab": {
          "base_uri": "https://localhost:8080/"
        },
        "id": "1E_oBPfAE0z0",
        "outputId": "60dcfbcd-909b-40e6-9e62-8d08f2aed648"
      },
      "execution_count": 15,
      "outputs": [
        {
          "output_type": "stream",
          "name": "stdout",
          "text": [
            "Found 416 images belonging to 2 classes.\n",
            "Found 134 images belonging to 2 classes.\n"
          ]
        }
      ]
    },
    {
      "cell_type": "code",
      "source": [
        "history = model_2.fit(training_set,\n",
        "                      validation_data= test_set,\n",
        "                      epochs=15,\n",
        "                      steps_per_epoch = len(training_set),\n",
        "                       validation_steps = len(test_set))"
      ],
      "metadata": {
        "colab": {
          "base_uri": "https://localhost:8080/"
        },
        "id": "ctjFsJN8FE39",
        "outputId": "298e2b80-d281-4f4c-deef-e50769ed3728"
      },
      "execution_count": 16,
      "outputs": [
        {
          "output_type": "stream",
          "name": "stdout",
          "text": [
            "Epoch 1/15\n",
            "13/13 [==============================] - 142s 10s/step - loss: 1.9345 - accuracy: 0.4976 - val_loss: 0.6926 - val_accuracy: 0.5522\n",
            "Epoch 2/15\n",
            "13/13 [==============================] - 6s 431ms/step - loss: 0.6922 - accuracy: 0.5096 - val_loss: 0.7007 - val_accuracy: 0.3507\n",
            "Epoch 3/15\n",
            "13/13 [==============================] - 6s 430ms/step - loss: 0.6917 - accuracy: 0.5096 - val_loss: 0.6943 - val_accuracy: 0.4478\n",
            "Epoch 4/15\n",
            "13/13 [==============================] - 6s 429ms/step - loss: 0.6926 - accuracy: 0.5457 - val_loss: 0.7158 - val_accuracy: 0.4030\n",
            "Epoch 5/15\n",
            "13/13 [==============================] - 6s 428ms/step - loss: 0.6938 - accuracy: 0.5096 - val_loss: 0.6812 - val_accuracy: 0.6194\n",
            "Epoch 6/15\n",
            "13/13 [==============================] - 6s 428ms/step - loss: 0.6864 - accuracy: 0.5553 - val_loss: 0.6946 - val_accuracy: 0.4925\n",
            "Epoch 7/15\n",
            "13/13 [==============================] - 6s 427ms/step - loss: 0.6764 - accuracy: 0.5745 - val_loss: 0.7251 - val_accuracy: 0.4403\n",
            "Epoch 8/15\n",
            "13/13 [==============================] - 6s 426ms/step - loss: 0.6652 - accuracy: 0.5938 - val_loss: 0.7073 - val_accuracy: 0.5000\n",
            "Epoch 9/15\n",
            "13/13 [==============================] - 6s 427ms/step - loss: 0.6733 - accuracy: 0.5601 - val_loss: 0.7069 - val_accuracy: 0.4403\n",
            "Epoch 10/15\n",
            "13/13 [==============================] - 6s 433ms/step - loss: 0.6507 - accuracy: 0.6106 - val_loss: 0.6695 - val_accuracy: 0.5746\n",
            "Epoch 11/15\n",
            "13/13 [==============================] - 6s 496ms/step - loss: 0.6541 - accuracy: 0.6250 - val_loss: 0.6683 - val_accuracy: 0.5373\n",
            "Epoch 12/15\n",
            "13/13 [==============================] - 6s 436ms/step - loss: 0.6545 - accuracy: 0.6106 - val_loss: 0.7859 - val_accuracy: 0.4104\n",
            "Epoch 13/15\n",
            "13/13 [==============================] - 6s 430ms/step - loss: 0.6343 - accuracy: 0.6322 - val_loss: 0.7505 - val_accuracy: 0.5075\n",
            "Epoch 14/15\n",
            "13/13 [==============================] - 6s 424ms/step - loss: 0.6246 - accuracy: 0.6490 - val_loss: 0.7091 - val_accuracy: 0.5224\n",
            "Epoch 15/15\n",
            "13/13 [==============================] - 6s 430ms/step - loss: 0.5885 - accuracy: 0.6875 - val_loss: 0.7165 - val_accuracy: 0.5970\n"
          ]
        }
      ]
    },
    {
      "cell_type": "code",
      "source": [
        "# plot the loss\n",
        "plt.plot(history.history['loss'], label='train loss')\n",
        "plt.plot(history.history['val_loss'], label='val loss')\n",
        "plt.legend()\n",
        "plt.show()\n",
        "plt.savefig('LossVal_loss')\n",
        "\n",
        "# plot the accuracy\n",
        "plt.plot(history.history['accuracy'], label='train acc')\n",
        "plt.plot(history.history['val_accuracy'], label='val acc')\n",
        "plt.legend()\n",
        "plt.show()\n",
        "plt.savefig('AccVal_acc')"
      ],
      "metadata": {
        "colab": {
          "base_uri": "https://localhost:8080/",
          "height": 536
        },
        "id": "1CCum-u8FkLB",
        "outputId": "90e76c3f-72b3-4300-8bbc-b556ab56a89f"
      },
      "execution_count": 17,
      "outputs": [
        {
          "output_type": "display_data",
          "data": {
            "text/plain": [
              "<Figure size 432x288 with 1 Axes>"
            ],
            "image/png": "[encoded data removed]"
          },
          "metadata": {
            "needs_background": "light"
          }
        },
        {
          "output_type": "display_data",
          "data": {
            "text/plain": [
              "<Figure size 432x288 with 1 Axes>"
            ],
            "image/png": "[encoded data removed]"
          },
          "metadata": {
            "needs_background": "light"
          }
        },
        {
          "output_type": "display_data",
          "data": {
            "text/plain": [
              "<Figure size 432x288 with 0 Axes>"
            ]
          },
          "metadata": {}
        }
      ]
    },
    {
      "cell_type": "markdown",
      "source": [
        "## Comparing Accuracy and loss of both models"
      ],
      "metadata": {
        "id": "k_8bmNNdGn7P"
      }
    },
    {
      "cell_type": "code",
      "source": [
        "import numpy as np\n",
        "val_loss = history.history['val_loss']\n",
        "val_acc = history.history['val_accuracy']\n",
        "\n",
        "print(f' valiadation loss is {np.average(val_loss)}')\n",
        "print(f'validation accuracy is {np.average(val_acc)}')"
      ],
      "metadata": {
        "colab": {
          "base_uri": "https://localhost:8080/"
        },
        "id": "4iFweca9GjsM",
        "outputId": "a6a84506-d803-480a-dbf0-f221371e4405"
      },
      "execution_count": 20,
      "outputs": [
        {
          "output_type": "stream",
          "name": "stdout",
          "text": [
            " valiadation loss is 0.7078853329022725\n",
            "validation accuracy is 0.4930348257223765\n"
          ]
        }
      ]
    },
    {
      "cell_type": "code",
      "source": [
        "import pandas as pd\n",
        "table = pd.DataFrame(columns=['Model','Val loss', 'Val Acc'])"
      ],
      "metadata": {
        "id": "bBA9LRzSHEG2"
      },
      "execution_count": 40,
      "outputs": []
    },
    {
      "cell_type": "code",
      "source": [
        "table = table.append(pd.DataFrame([['VGG 19',0.449,0.777]], columns=['Model','Val loss', 'Val Acc']))\n",
        "table = table.append(pd.DataFrame([['Scratch',0.707,0.493]], columns=['Model','Val loss', 'Val Acc']))"
      ],
      "metadata": {
        "id": "3XBlKghzJQzc"
      },
      "execution_count": 42,
      "outputs": []
    },
    {
      "cell_type": "code",
      "source": [
        "import matplotlib.pyplot as plt\n",
        "table.plot(x='Model', kind='bar', figsize=(10,6), grid = True, fontsize=10)\n",
        "# tab2.plot(x = \"Model\", kind = \"bar\", figsize = (10, 6), grid = True, fontsize = 10)\n",
        "plt.show"
      ],
      "metadata": {
        "colab": {
          "base_uri": "https://localhost:8080/",
          "height": 433
        },
        "id": "TlOeHmr7KH_9",
        "outputId": "215acd70-5188-415f-9e17-bf8f1cb29ce5"
      },
      "execution_count": 44,
      "outputs": [
        {
          "output_type": "execute_result",
          "data": {
            "text/plain": [
              "<function matplotlib.pyplot.show>"
            ]
          },
          "metadata": {},
          "execution_count": 44
        },
        {
          "output_type": "display_data",
          "data": {
            "text/plain": [
              "<Figure size 720x432 with 1 Axes>"
            ],
            "image/png": "[encoded data removed]"
          },
          "metadata": {
            "needs_background": "light"
          }
        }
      ]
    },
    {
      "cell_type": "code",
      "source": [
        ""
      ],
      "metadata": {
        "id": "z-NWEsURKqhe"
      },
      "execution_count": null,
      "outputs": []
    }
  ]
}